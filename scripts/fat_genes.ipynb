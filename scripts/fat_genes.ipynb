{
 "cells": [
  {
   "cell_type": "markdown",
   "metadata": {},
   "source": [
    "# Xylulose related *Saccharomyces cerevisiae* genes\n",
    "\n",
    "This notebook shows how to select genes that have the word \"[xylulose](https://en.wikipedia.org/wiki/Xylulose)\" in the short description field."
   ]
  },
  {
   "cell_type": "code",
   "execution_count": 2,
   "metadata": {
    "collapsed": true
   },
   "outputs": [],
   "source": [
    "from pygenome import sg"
   ]
  },
  {
   "cell_type": "code",
   "execution_count": 3,
   "metadata": {},
   "outputs": [
    {
     "data": {
      "text/plain": [
       "5034"
      ]
     },
     "execution_count": 3,
     "metadata": {},
     "output_type": "execute_result"
    }
   ],
   "source": [
    "len(sg.stdgene)"
   ]
  },
  {
   "cell_type": "code",
   "execution_count": 5,
   "metadata": {
    "collapsed": true
   },
   "outputs": [],
   "source": [
    "genes = [sg.stdgene[g] for g in sg.stdgene if \"fatty\" in sg.stdgene[g].short_description ]"
   ]
  },
  {
   "cell_type": "code",
   "execution_count": 6,
   "metadata": {},
   "outputs": [
    {
     "name": "stdout",
     "output_type": "stream",
     "text": [
      "Gene OAF1/YAL051W\n",
      "Oleate-activated transcription factor; subunit of a heterodimeric complex with Pip2p, which binds to oleate-response elements (ORE) in the promoter of genes involved in beta-oxidation of fatty acids, peroxisome organization and biogenesis, activating transcription in the presence of oleate; regulates chromatin silencing at telomeres; involved in diauxic shift; OAF1 has a paralog, PIP2, that arose from the whole genome duplication\n",
      "\n",
      "Gene TOG1/YER184C\n",
      "Transcriptional activator of oleate genes; regulates genes involved in fatty acid utilization; zinc cluster protein; deletion confers sensitivity to Calcufluor white, and prevents growth on glycerol or lactate as sole carbon source\n",
      "\n",
      "Gene ELO2/YCR034W\n",
      "Fatty acid elongase, involved in sphingolipid biosynthesis; acts on fatty acids of up to 24 carbons in length; mutations have regulatory effects on 1,3-beta-glucan synthase, vacuolar ATPase, and the secretory pathway; ELO2 has a paralog, ELO1, that arose from the whole genome duplication\n",
      "\n",
      "Gene FAA3/YIL009W\n",
      "Long chain fatty acyl-CoA synthetase; activates imported fatty acids; green fluorescent protein (GFP)-fusion protein localizes to the cell periphery\n",
      "\n",
      "Gene PIP2/YOR363C\n",
      "Autoregulatory, oleate-activated transcription factor; subunit of a heterodimeric complex with Oaf1p, which binds to oleate-response elements (ORE) in the promoter of genes involved in beta-oxidation of fatty acids, peroxisome organization and biogenesis, activating transcription in the presence of oleate; PIP2 has a paralog, OAF1, that arose from the whole genome duplication\n",
      "\n",
      "Gene CSR1/YLR380W\n",
      "Phosphatidylinositol transfer protein; has a potential role in regulating lipid and fatty acid metabolism under heme-depleted conditions; interacts specifically with thioredoxin peroxidase; may have a role in oxidative stress resistance; protein abundance increases in response to DNA replication stress\n",
      "\n",
      "Gene ELO1/YJL196C\n",
      "Elongase I, medium-chain acyl elongase; catalyzes carboxy-terminal elongation of unsaturated C12-C16 fatty acyl-CoAs to C16-C18 fatty acids; ELO1 has a paralog, ELO2, that arose from the whole genome duplication\n",
      "\n",
      "Gene YDC1/YPL087W\n",
      "Alkaline dihydroceramidase, involved in sphingolipid metabolism; preferentially hydrolyzes dihydroceramide to a free fatty acid and dihydrosphingosine; has a minor reverse activity; YDC1 has a paralog, YPC1, that arose from the whole genome duplication\n",
      "\n",
      "Gene DCI1/YOR180C\n",
      "Peroxisomal protein; identification as a delta(3,5)-delta(2,4)-dienoyl-CoA isomerase involved in fatty acid metabolism is disputed; DCI1 has a paralog, ECI1, that arose from the whole genome duplication\n",
      "\n",
      "Gene FOX2/YKR009C\n",
      "3-hydroxyacyl-CoA dehydrogenase and enoyl-CoA hydratase; multifunctional enzyme of the peroxisomal fatty acid beta-oxidation pathway\n",
      "\n",
      "Gene TES1/YJR019C\n",
      "Peroxisomal acyl-CoA thioesterase; likely to be involved in fatty acid oxidation rather than fatty acid synthesis; conserved protein also found in human peroxisomes; TES1 mRNA levels increase during growth on fatty acids\n",
      "\n",
      "Gene HTD2/YHR067W\n",
      "Mitochondrial 3-hydroxyacyl-thioester dehydratase; involved in fatty acid biosynthesis, required for respiratory growth and for normal mitochondrial morphology\n",
      "\n",
      "Gene OLE1/YGL055W\n",
      "Delta(9) fatty acid desaturase; required for monounsaturated fatty acid synthesis and for normal distribution of mitochondria\n",
      "\n",
      "Gene CRC1/YOR100C\n",
      "Mitochondrial inner membrane carnitine transporter; required for carnitine-dependent transport of acetyl-CoA from peroxisomes to mitochondria during fatty acid beta-oxidation; human homolgy SLC25A20 complements yeast null mutant\n",
      "\n",
      "Gene EEB1/YPL095C\n",
      "Acyl-coenzymeA:ethanol O-acyltransferase; responsible for the major part of medium-chain fatty acid ethyl ester biosynthesis during fermentation; possesses short-chain esterase activity; may be involved in lipid metabolism and detoxification; EEB1 has a paralog, EHT1, that arose from the whole genome duplication\n",
      "\n",
      "Gene POX1/YGL205W\n",
      "Fatty-acyl coenzyme A oxidase; involved in the fatty acid beta-oxidation pathway; localized to the peroxisomal matrix\n",
      "\n",
      "Gene PHS1/YJL097W\n",
      "Essential 3-hydroxyacyl-CoA dehydratase of the ER membrane; involved in elongation of very long-chain fatty acids; evolutionarily conserved, similar to mammalian PTPLA and PTPLB; involved in sphingolipid biosynthesis and protein trafficking\n",
      "\n",
      "Gene IZH2/YOL002C\n",
      "Plasma membrane receptor for plant antifungal osmotin; involved in zinc ion homeostasis, apoptosis; negatively regulates ZRT1 and other functionally divergent genes through CCCTC promoter motif (IzRE); modulates FET3 activity in iron-independent manner; affects gene expression by influencing balance of competition between Msn2p/Msn4p and Nrg1p/Nrg2p for binding to IzRE; transcription regulated by Zap1p, zinc, fatty acid levels; homolog of mammalian adiponectin receptor\n",
      "\n",
      "Gene ANT1/YPR128C\n",
      "Peroxisomal adenine nucleotide transporter; involved in beta-oxidation of medium-chain fatty acid; required for peroxisome proliferation\n",
      "\n",
      "Gene ADR1/YDR216W\n",
      "Carbon source-responsive zinc-finger transcription factor; required for transcription of the glucose-repressed gene ADH2, of peroxisomal protein genes, and of genes required for ethanol, glycerol, and fatty acid utilization\n",
      "\n",
      "Gene HFD1/YMR110C\n",
      "Hexadecenal dehydrogenase; involved in the conversion of sphingosine 1-phosphate breakdown product hexadecenal to hexadecenoic acid; located in the mitochondrial outer membrane and also in lipid particles; similar to ALDH3A2, a human fatty aldehyde dehydrogenase (FALDH) mutated in Sjogren-Larsson syndrome, a neurocutaneous disorder\n",
      "\n",
      "Gene CEM1/YER061C\n",
      "Mitochondrial beta-keto-acyl synthase; possible role in fatty acid synthesis; required for mitochondrial respiration\n",
      "\n",
      "Gene PXA1/YPL147W\n",
      "Subunit of heterodimeric peroxisomal ABC transport complex, with Pxa2p; required for import of long-chain fatty acids into peroxisomes; similar to human adrenoleukodystrophy transporters ABCD1and ABCD2, and ALD-related proteins; mutations in ABCD1 cause X-linked adrenoleukodystrophy (X-ALD), a peroxisomal disorder; human ABCD1 and ABCD2 can each partially complement yeast pxa1 pxa2 double null mutant\n",
      "\n",
      "Gene SCT1/YBL011W\n",
      "Glycerol 3-phosphate/dihydroxyacetone phosphate sn-1 acyltransferase; dual substrate-specific acyltransferase of the glycerolipid biosynthesis pathway; prefers 16-carbon fatty acids; similar to Gpt2p; gene is constitutively transcribed\n",
      "\n",
      "Gene FAA1/YOR317W\n",
      "Long chain fatty acyl-CoA synthetase; activates imported fatty acids with a preference for C12:0-C16:0 chain lengths; functions in long chain fatty acid import; accounts for most acyl-CoA synthetase activity; localized to lipid particles; involved in sphingolipid-to-glycerolipid metabolism; forms ER foci upon DNA replication stress; FAA1 has a paralog, FAA4, that arose from the whole genome duplication\n",
      "\n",
      "Gene VHT1/YGR065C\n",
      "High-affinity plasma membrane H+-biotin (vitamin H) symporter; mutation results in fatty acid auxotrophy; 12 transmembrane domain containing major facilitator subfamily member; mRNA levels negatively regulated by iron deprivation and biotin\n",
      "\n",
      "Gene PXA2/YKL188C\n",
      "Subunit of heterodimeric peroxisomal ABC transport complex, with Pxa1p; required for import of long-chain fatty acids into peroxisomes; similar to human adrenoleukodystrophy transportesr ABCD1 and ABCD2, and ALD-related proteins; mutations in ABCD1 cause X-linked adrenoleukodystrophy (X-ALD), a peroxisomal disorder; human ABCD1 and ABCD2 can each partially complement yeast pxa1 pxa2 double null mutant\n",
      "\n",
      "Gene TSC13/YDL015C\n",
      "Enoyl reductase; catalyzes last step in each cycle of very long chain fatty acid elongation; localizes to ER, highly enriched in a structure marking nuclear-vacuolar junctions; coimmunoprecipitates with elongases Elo2p and Elo3p; protein increases in abundance and relative distribution to ER foci increases upon DNA replication stress; human homolog TECR implicated in nonsyndromic mental retardation, can complement yeast mutant\n",
      "\n",
      "Gene ACC1/YNR016C\n",
      "Acetyl-CoA carboxylase, biotin containing enzyme; catalyzes carboxylation of cytosolic acetyl-CoA to form malonyl-CoA and regulates histone acetylation by regulating the availablity of acetyl-CoA; required for de novo biosynthesis of long-chain fatty acids; ACC1 has a paralog, HFA1, that arose from the whole genome duplication\n",
      "\n",
      "Gene IZH4/YOL101C\n",
      "Membrane protein involved in zinc ion homeostasis; member of the four-protein IZH family; expression induced by fatty acids and altered zinc levels; deletion reduces sensitivity to excess zinc; possible role in sterol metabolism; protein increases in abundance and relocalizes from nucleus to ER upon DNA replication stress; IZH4 has a paralog, IZH1, that arose from the whole genome duplication\n",
      "\n",
      "Gene CTA1/YDR256C\n",
      "Catalase A; breaks down hydrogen peroxide in the peroxisomal matrix formed by acyl-CoA oxidase (Pox1p) during fatty acid beta-oxidation\n",
      "\n",
      "Gene FAT3/YKL187C\n",
      "Protein required for fatty acid uptake; protein abundance increases in cortical patches in response to oleate exposure; the authentic, non-tagged protein is detected in a phosphorylated state in highly purified mitochondria in high-throughput studies; FAT3 has a paralog, YLR413W, that arose from the whole genome duplication\n",
      "\n",
      "Gene POT1/YIL160C\n",
      "3-ketoacyl-CoA thiolase with broad chain length specificity; cleaves 3-ketoacyl-CoA into acyl-CoA and acetyl-CoA during beta-oxidation of fatty acids\n",
      "\n",
      "Gene FAA2/YER015W\n",
      "Medium chain fatty acyl-CoA synthetase; activates imported fatty acids; accepts a wide range of fatty acid chain lengths with a preference for medium chains, C9:0-C13:0; localized to the peroxisome; comparative analysis suggests that a mitochondrially targeted form may result from translation starting at a non-canonical codon upstream of the annotated start codon\n",
      "\n",
      "Gene FAT1/YBR041W\n",
      "Very long chain fatty acyl-CoA synthetase and fatty acid transporter; activates imported fatty acids with a preference for very long lengths (C20-C26); has a separate function in the transport of long chain fatty acids\n",
      "\n",
      "Gene FAS2/YPL231W\n",
      "Alpha subunit of fatty acid synthetase; complex catalyzes the synthesis of long-chain saturated fatty acids; contains the acyl-carrier protein domain and beta-ketoacyl reductase, beta-ketoacyl synthase and self-pantetheinylation activities\n",
      "\n",
      "Gene IZH1/YDR492W\n",
      "Membrane protein involved in zinc ion homeostasis; member of the four-protein IZH family; transcription is regulated directly by Zap1p, expression induced by zinc deficiency and fatty acids; deletion increases sensitivity to elevated zinc; IZH1 has a paralog, IZH4, that arose from the whole genome duplication\n",
      "\n",
      "Gene FAA4/YMR246W\n",
      "Long chain fatty acyl-CoA synthetase; activates imported fatty acids with a preference for C12:0-C16:0 chain lengths; functions in long chain fatty acid import; important for survival during stationary phase; localized to lipid particles; involved in sphingolipid-to-glycerolipid metabolism; forms cytoplasmic foci upon DNA replication stress; FAA4 has a paralog, FAA1, that arose from the whole genome duplication\n",
      "\n",
      "Gene EHT1/YBR177C\n",
      "Acyl-coenzymeA:ethanol O-acyltransferase; plays a minor role in medium-chain fatty acid ethyl ester biosynthesis; possesses short-chain esterase activity; localizes to lipid particles and the mitochondrial outer membrane; EHT1 has a paralog, EEB1, that arose from the whole genome duplication\n",
      "\n",
      "Gene FRK1/YPL141C\n",
      "Protein kinase of unknown cellular role; green fluorescent protein (GFP)-fusion protein localizes to the cytoplasm; interacts with rRNA transcription and ribosome biogenesis factors and the long chain fatty acyl-CoA synthetase Faa3p; FRK1 has a paralog, KIN4, that arose from the whole genome duplication\n",
      "\n",
      "Gene PCD1/YLR151C\n",
      "8-oxo-dGTP diphosphatase; prevents spontaneous mutagenesis via sanitization of oxidized purine nucleoside triphosphates; can also act as peroxisomal pyrophosphatase with specificity for coenzyme A and CoA derivatives, may function to remove potentially toxic oxidized CoA disulfide from peroxisomes to maintain the capacity for beta-oxidation of fatty acids; nudix hydrolase family member; similar E. coli MutT and human, rat and mouse MTH1\n",
      "\n",
      "Gene SPS19/YNL202W\n",
      "Peroxisomal 2,4-dienoyl-CoA reductase; auxiliary enzyme of fatty acid beta-oxidation; homodimeric enzyme required for growth and sporulation on petroselineate medium; expression induced during late sporulation and in the presence of oleate\n",
      "\n",
      "Gene SCS7/YMR272C\n",
      "Sphingolipid alpha-hydroxylase; functions in the alpha-hydroxylation of sphingolipid-associated very long chain fatty acids, has both cytochrome b5-like and hydroxylase/desaturase domains, not essential for growth\n",
      "\n",
      "Gene ALE1/YOR175C\n",
      "Broad-specificity lysophospholipid acyltransferase; part of MBOAT family of membrane-bound O-acyltransferases; key component of Lands cycle; may have role in fatty acid exchange at sn-2 position of mature glycerophospholipids\n",
      "\n",
      "Gene MCT1/YOR221C\n",
      "Predicted malonyl-CoA:ACP transferase; putative component of a type-II mitochondrial fatty acid synthase that produces intermediates for phospholipid remodeling\n",
      "\n",
      "Gene ELO3/YLR372W\n",
      "Elongase; involved in fatty acid and sphingolipid biosynthesis; synthesizes very long chain 20-26-carbon fatty acids from C18-CoA primers; involved in regulation of sphingolipid biosynthesis\n",
      "\n",
      "Gene OAR1/YKL055C\n",
      "Mitochondrial 3-oxoacyl-[acyl-carrier-protein] reductase; may comprise a type II mitochondrial fatty acid synthase along with Mct1p; human homolog CBR4 complements yeast null mutant\n",
      "\n",
      "Gene FRM2/YCL026C-A\n",
      "Type II nitroreductase, using NADH as reductant; mutants are defective in fatty acid mediated repression of genes involved in fatty acid biosynthesis indicative of a role in lipid signaling; involved in the oxidative stress response; transcription induction by cadmium and selenite indicates a possible role in the metal stress response; expression induced in cells treated with the mycotoxin patulin\n",
      "\n",
      "Gene FAS1/YKL182W\n",
      "Beta subunit of fatty acid synthetase; complex catalyzes the synthesis of long-chain saturated fatty acids; contains acetyltransacylase, dehydratase, enoyl reductase, malonyl transacylase, and palmitoyl transacylase activities\n",
      "\n",
      "Gene ECI1/YLR284C\n",
      "Peroxisomal delta3,delta2-enoyl-CoA isomerase; hexameric protein that converts 3-hexenoyl-CoA to trans-2-hexenoyl-CoA, essential for the beta-oxidation of unsaturated fatty acids, oleate-induced; ECI1 has a paralog, DCI1, that arose from the whole genome duplication\n",
      "\n",
      "Gene PEX11/YOL147C\n",
      "Peroxisomal protein required for medium-chain fatty acid oxidation; also required for peroxisome proliferation, possibly by inducing membrane curvature; localization regulated by phosphorylation; transcription regulated by Adr1p and Pip2p-Oaf1p\n",
      "\n",
      "Gene HST3/YOR025W\n",
      "Member of the Sir2 family of NAD(+)-dependent protein deacetylases; involved along with Hst4p in telomeric silencing, cell cycle progression, radiation resistance, genomic stability and short-chain fatty acid metabolism\n",
      "\n",
      "Gene HST4/YDR191W\n",
      "Member of the Sir2 family of NAD(+)-dependent protein deacetylases; involved along with Hst3p in silencing at telomeres, cell cycle progression, radiation resistance, genomic stability and short-chain fatty acid metabolism\n",
      "\n",
      "Gene OPI3/YJR073C\n",
      "Methylene-fatty-acyl-phospholipid synthase; catalyzes the last two steps in phosphatidylcholine biosynthesis; also known as phospholipid methyltransferase\n",
      "\n",
      "Gene HFA1/YMR207C\n",
      "Mitochondrial acetyl-coenzyme A carboxylase; catalyzes production of malonyl-CoA in mitochondrial fatty acid biosynthesis; relocalizes from mitochondrion to cytoplasm upon DNA replication stress; genetic and comparative analysis suggests that translation begins at a non-canonical (Ile) start codon at -372 relative to the annotated start codon\n",
      "\n",
      "Gene ACB1/YGR037C\n",
      "Acyl-CoA-binding protein; transports newly synthesized acyl-CoA esters from fatty acid synthetase (Fas1p-Fas2p) to acyl-CoA-consuming processes; subject to starvation-induced, Grh1p-mediated unconventional secretion; protein abundance increases in response to DNA replication stress\n",
      "\n",
      "Gene ETR1/YBR026C\n",
      "2-enoyl thioester reductase; member of the medium chain dehydrogenase/reductase family; localized to in mitochondria, where it has a probable role in fatty acid synthesis\n",
      "\n",
      "Gene IDP3/YNL009W\n",
      "Peroxisomal NADP-dependent isocitrate dehydrogenase; catalyzes oxidation of isocitrate to alpha-ketoglutarate with the formation of NADP(H+), required for growth on unsaturated fatty acids; IDP3 has a paralog, IDP2, that arose from the whole genome duplication\n",
      "\n"
     ]
    }
   ],
   "source": [
    "for xg in genes:\n",
    "    print(xg)\n",
    "    print(xg.short_description)\n",
    "    print()"
   ]
  },
  {
   "cell_type": "markdown",
   "metadata": {},
   "source": [
    "HFA1/YMR207C Mitochondrial acetyl-coenzyme A carboxylase; catalyzes\n",
    "production of malonyl-CoA in mitochondrial fatty acid biosynthesis; relocalizes\n",
    "from mitochondrion to cytoplasm upon DNA replication stress; genetic and\n",
    "comparative analysis suggests that translation begins at a non-canonical (Ile)\n",
    "start codon at -372 relative to the annotated start codon\n",
    "\n",
    "\n",
    "MCT1/YOR221C \n",
    "Predicted malonyl-CoA:ACP transferase; putative component of\n",
    "a type-II mitochondrial fatty acid synthase that produces intermediates for\n",
    "phospholipid remodeling\n",
    "\n",
    "\n",
    "\n",
    "\n",
    "\n",
    "Gene CEM1/YER061C \n",
    "Mitochondrial beta-keto-acyl synthase; possible role in fatty\n",
    "acid synthesis; required for mitochondrial respiration\n",
    "\n",
    "\n",
    "Gene OAR1/YKL055C \n",
    "Mitochondrial 3-oxoacyl-[acyl-carrier-protein] reductase; may\n",
    "comprise a type II mitochondrial fatty acid synthase along with Mct1p; human\n",
    "homolog CBR4 complements yeast null mutant\n",
    "\n",
    "\n",
    "Gene HTD2/YHR067W \n",
    "Mitochondrial 3-hydroxyacyl-thioester dehydratase; involved\n",
    "in fatty acid biosynthesis, required for respiratory growth and for normal\n",
    "mitochondrial morphology\n",
    "\n",
    "Gene ETR1/YBR026C \n",
    "2-enoyl thioester reductase; member of the medium chain\n",
    "dehydrogenase/reductase family; localized to in mitochondria, where it has a\n",
    "probable role in fatty acid synthesis"
   ]
  },
  {
   "cell_type": "code",
   "execution_count": 7,
   "metadata": {
    "collapsed": true
   },
   "outputs": [],
   "source": [
    "genes = \"HFA1 MCT1 CEM1 OAR1 HTD2 ETR1 ACP1 \".split()"
   ]
  },
  {
   "cell_type": "code",
   "execution_count": 17,
   "metadata": {},
   "outputs": [
    {
     "data": {
      "text/html": [
       "<a href='http://www.yeastgenome.org/locus/YMR207C' target='_blank'>Gene HFA1/YMR207C</a>"
      ],
      "text/plain": [
       "<IPython.core.display.HTML object>"
      ]
     },
     "metadata": {},
     "output_type": "display_data"
    },
    {
     "name": "stdout",
     "output_type": "stream",
     "text": [
      "6372\n"
     ]
    },
    {
     "data": {
      "text/html": [
       "<a href='http://www.yeastgenome.org/locus/YOR221C' target='_blank'>Gene MCT1/YOR221C</a>"
      ],
      "text/plain": [
       "<IPython.core.display.HTML object>"
      ]
     },
     "metadata": {},
     "output_type": "display_data"
    },
    {
     "name": "stdout",
     "output_type": "stream",
     "text": [
      "1083\n"
     ]
    },
    {
     "data": {
      "text/html": [
       "<a href='http://www.yeastgenome.org/locus/YER061C' target='_blank'>Gene CEM1/YER061C</a>"
      ],
      "text/plain": [
       "<IPython.core.display.HTML object>"
      ]
     },
     "metadata": {},
     "output_type": "display_data"
    },
    {
     "name": "stdout",
     "output_type": "stream",
     "text": [
      "1329\n"
     ]
    },
    {
     "data": {
      "text/html": [
       "<a href='http://www.yeastgenome.org/locus/YKL055C' target='_blank'>Gene OAR1/YKL055C</a>"
      ],
      "text/plain": [
       "<IPython.core.display.HTML object>"
      ]
     },
     "metadata": {},
     "output_type": "display_data"
    },
    {
     "name": "stdout",
     "output_type": "stream",
     "text": [
      "837\n"
     ]
    },
    {
     "data": {
      "text/html": [
       "<a href='http://www.yeastgenome.org/locus/YHR067W' target='_blank'>Gene HTD2/YHR067W</a>"
      ],
      "text/plain": [
       "<IPython.core.display.HTML object>"
      ]
     },
     "metadata": {},
     "output_type": "display_data"
    },
    {
     "name": "stdout",
     "output_type": "stream",
     "text": [
      "843\n"
     ]
    },
    {
     "data": {
      "text/html": [
       "<a href='http://www.yeastgenome.org/locus/YBR026C' target='_blank'>Gene ETR1/YBR026C</a>"
      ],
      "text/plain": [
       "<IPython.core.display.HTML object>"
      ]
     },
     "metadata": {},
     "output_type": "display_data"
    },
    {
     "name": "stdout",
     "output_type": "stream",
     "text": [
      "1143\n"
     ]
    },
    {
     "data": {
      "text/html": [
       "<a href='http://www.yeastgenome.org/locus/YKL192C' target='_blank'>Gene ACP1/YKL192C</a>"
      ],
      "text/plain": [
       "<IPython.core.display.HTML object>"
      ]
     },
     "metadata": {},
     "output_type": "display_data"
    },
    {
     "name": "stdout",
     "output_type": "stream",
     "text": [
      "378\n"
     ]
    }
   ],
   "source": [
    "from IPython.core.display import display, HTML\n",
    "for gene in genes:\n",
    "    g = sg.stdgene[gene]\n",
    "    display(HTML(g.sgd_link))\n",
    "    print(len(g))"
   ]
  },
  {
   "cell_type": "code",
   "execution_count": null,
   "metadata": {
    "collapsed": true
   },
   "outputs": [],
   "source": [
    "x=sg.stdgene[gene]"
   ]
  },
  {
   "cell_type": "code",
   "execution_count": null,
   "metadata": {
    "collapsed": true
   },
   "outputs": [],
   "source": [
    "x.cds."
   ]
  }
 ],
 "metadata": {
  "anaconda-cloud": {},
  "kernelspec": {
   "display_name": "Python 3",
   "language": "python",
   "name": "python3"
  },
  "language_info": {
   "codemirror_mode": {
    "name": "ipython",
    "version": 3
   },
   "file_extension": ".py",
   "mimetype": "text/x-python",
   "name": "python",
   "nbconvert_exporter": "python",
   "pygments_lexer": "ipython3",
   "version": "3.5.2"
  }
 },
 "nbformat": 4,
 "nbformat_minor": 1
}
